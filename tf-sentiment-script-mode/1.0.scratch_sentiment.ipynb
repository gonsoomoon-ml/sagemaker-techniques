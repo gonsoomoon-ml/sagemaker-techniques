{
 "cells": [
  {
   "cell_type": "markdown",
   "metadata": {},
   "source": [
    "# Run training script in local notebook\n",
    "# Original notebook\n",
    "- https://github.com/aws-samples/amazon-sagemaker-script-mode/blob/master/tf-sentiment-script-mode/sentiment-analysis.ipynb\n",
    "\n",
    "## Modified Points:\n",
    "- This notebook is tested in SageMaker Studio with kernel Python3 (Tensorflow2 GPU Optimized)\n",
    "- Create training script sentiment-gs.py that is mostly similar to the original version, sentiment.py\n",
    "- Run sentiment-gs.py on notebook"
   ]
  },
  {
   "cell_type": "code",
   "execution_count": 1,
   "metadata": {},
   "outputs": [
    {
     "data": {
      "text/plain": [
       "'2.1.0'"
      ]
     },
     "execution_count": 1,
     "metadata": {},
     "output_type": "execute_result"
    }
   ],
   "source": [
    "import tensorflow as tf\n",
    "tf.__version__"
   ]
  },
  {
   "cell_type": "markdown",
   "metadata": {},
   "source": [
    "### Set working folder"
   ]
  },
  {
   "cell_type": "code",
   "execution_count": 2,
   "metadata": {},
   "outputs": [
    {
     "data": {
      "text/plain": [
       "'/root/tensorflow-sagemaker-examples/tf-sentiment-script-mode'"
      ]
     },
     "execution_count": 2,
     "metadata": {},
     "output_type": "execute_result"
    }
   ],
   "source": [
    "import os\n",
    "os.chdir('/root/tensorflow-sagemaker-examples/tf-sentiment-script-mode')\n",
    "os.getcwd()"
   ]
  },
  {
   "cell_type": "markdown",
   "metadata": {},
   "source": [
    "### Download data"
   ]
  },
  {
   "cell_type": "code",
   "execution_count": 3,
   "metadata": {},
   "outputs": [
    {
     "name": "stdout",
     "output_type": "stream",
     "text": [
      "25000 train sequences\n",
      "25000 test sequences\n",
      "x_train shape: (25000, 400)\n",
      "x_test shape: (25000, 400)\n"
     ]
    }
   ],
   "source": [
    "%matplotlib inline\n",
    "\n",
    "import logging\n",
    "logging.getLogger(\"tensorflow\").setLevel(logging.ERROR)\n",
    "import numpy as np\n",
    "import os\n",
    "\n",
    "from tensorflow.keras.preprocessing import sequence\n",
    "from tensorflow.python.keras.datasets import imdb\n",
    "\n",
    "max_features = 20000\n",
    "maxlen = 400\n",
    "\n",
    "(x_train, y_train), (x_test, y_test) = imdb.load_data(num_words=max_features)\n",
    "print(len(x_train), 'train sequences')\n",
    "print(len(x_test), 'test sequences')\n",
    "\n",
    "x_train = sequence.pad_sequences(x_train, maxlen=maxlen)\n",
    "x_test = sequence.pad_sequences(x_test, maxlen=maxlen)\n",
    "print('x_train shape:', x_train.shape)\n",
    "print('x_test shape:', x_test.shape)"
   ]
  },
  {
   "cell_type": "markdown",
   "metadata": {},
   "source": [
    "### Store file into the folder"
   ]
  },
  {
   "cell_type": "code",
   "execution_count": 4,
   "metadata": {},
   "outputs": [],
   "source": [
    "data_dir = os.path.join(os.getcwd(), 'data')\n",
    "os.makedirs(data_dir, exist_ok=True)\n",
    "\n",
    "train_dir = os.path.join(os.getcwd(), 'data/train')\n",
    "os.makedirs(train_dir, exist_ok=True)\n",
    "\n",
    "test_dir = os.path.join(os.getcwd(), 'data/test')\n",
    "os.makedirs(test_dir, exist_ok=True)\n",
    "\n",
    "csv_test_dir = os.path.join(os.getcwd(), 'data/csv-test')\n",
    "os.makedirs(csv_test_dir, exist_ok=True)\n",
    "\n",
    "np.save(os.path.join(train_dir, 'x_train.npy'), x_train)\n",
    "np.save(os.path.join(train_dir, 'y_train.npy'), y_train)\n",
    "np.save(os.path.join(test_dir, 'x_test.npy'), x_test)\n",
    "np.save(os.path.join(test_dir, 'y_test.npy'), y_test)\n",
    "np.savetxt(os.path.join(csv_test_dir, 'csv-test.csv'), np.array(x_test[:100], dtype=np.int32), fmt='%d', delimiter=\",\")"
   ]
  },
  {
   "cell_type": "code",
   "execution_count": 5,
   "metadata": {},
   "outputs": [
    {
     "name": "stdout",
     "output_type": "stream",
     "text": [
      "train_dir /root/tensorflow-sagemaker-examples/tf-sentiment-script-mode/data/train\n",
      "test_dir /root/tensorflow-sagemaker-examples/tf-sentiment-script-mode/data/test\n"
     ]
    }
   ],
   "source": [
    "print(\"train_dir\", train_dir)\n",
    "print(\"test_dir\", test_dir)"
   ]
  },
  {
   "cell_type": "code",
   "execution_count": 6,
   "metadata": {},
   "outputs": [],
   "source": [
    "! mkdir model"
   ]
  },
  {
   "cell_type": "markdown",
   "metadata": {},
   "source": [
    "### Write training script"
   ]
  },
  {
   "cell_type": "code",
   "execution_count": 7,
   "metadata": {},
   "outputs": [
    {
     "name": "stdout",
     "output_type": "stream",
     "text": [
      "Writing sentiment_gs.py\n"
     ]
    }
   ],
   "source": [
    "%%writefile sentiment_gs.py\n",
    "\n",
    "import logging\n",
    "logging.getLogger(\"tensorflow\").setLevel(logging.ERROR)\n",
    "import argparse\n",
    "import codecs\n",
    "import json\n",
    "import numpy as np\n",
    "import os\n",
    "import tensorflow as tf\n",
    "\n",
    "max_features = 20000\n",
    "maxlen = 400\n",
    "embedding_dims = 300\n",
    "filters = 56\n",
    "kernel_size = 3\n",
    "hidden_dims = 56\n",
    "\n",
    "def parse_args():\n",
    "    \n",
    "    parser = argparse.ArgumentParser()\n",
    "    # hyperparameters sent by the client are passed as command-line arguments to the script\n",
    "    parser.add_argument('--epochs', type = int, default = 1)\n",
    "    parser.add_argument('--batch_size', type=int, default=64)\n",
    "    parser.add_argument('--learning_rate', type=float, default=0.01)\n",
    "\n",
    "    # data directories\n",
    "    parser.add_argument('--train', type=str, default=os.environ.get('SM_CHANNEL_TRAIN'))\n",
    "    parser.add_argument('--test', type=str, default = os.environ.get('SM_CHANNEL_TEST'))\n",
    "    \n",
    "    # model directory: we will use the default set by SageMaker, /opt/ml/model\n",
    "    parser.add_argument('--model_dir', type=str, default = os.environ.get('SM_MODEL_DIR'))\n",
    "    \n",
    "    return parser.parse_known_args()\n",
    "\n",
    "def save_history(path, history):\n",
    "\n",
    "    history_for_json = {}\n",
    "    # transform float values that aren't json-serializable\n",
    "    for key in list(history.history.keys()):\n",
    "        if type(history.history[key]) == np.ndarray:\n",
    "            history_for_json[key] == history.history[key].tolist()\n",
    "        elif type(history.history[key]) == list:\n",
    "           if  type(history.history[key][0]) == np.float32 or type(history.history[key][0]) == np.float64:\n",
    "               history_for_json[key] = list(map(float, history.history[key]))\n",
    "\n",
    "    with codecs.open(path, 'w', encoding='utf-8') as f:\n",
    "        json.dump(history_for_json, f, separators=(',', ':'), sort_keys=True, indent=4) \n",
    "\n",
    "        \n",
    "def get_train_data(train_dir):\n",
    "    x_train = np.load(os.path.join(train_dir, 'x_train.npy'))\n",
    "    y_train = np.load(os.path.join(train_dir, 'y_train.npy'))\n",
    "    print('x train', x_train.shape,'y train', y_train.shape)\n",
    "\n",
    "    return x_train, y_train\n",
    "\n",
    "def get_test_data(test_dir):\n",
    "\n",
    "    x_test = np.load(os.path.join(test_dir, 'x_test.npy'))\n",
    "    y_test = np.load(os.path.join(test_dir, 'y_test.npy'))\n",
    "    print('x test', x_test.shape,'y test', y_test.shape)\n",
    "\n",
    "    return x_test, y_test\n",
    "\n",
    "def get_model(learning_rate):\n",
    "    mirrored_strategy = tf.distribute.MirroredStrategy()\n",
    "    \n",
    "    with mirrored_strategy.scope():\n",
    "        embedding_layer = tf.keras.layers.Embedding(max_features,\n",
    "                                                   embedding_dims,\n",
    "                                                   input_length = maxlen)\n",
    "        \n",
    "        sequence_input = tf.keras.Input(shape=(maxlen,), dtype='int32')\n",
    "        embedding_sequences = embedding_layer(sequence_input)\n",
    "        x = tf.keras.layers.Dropout(0.2)(embedding_sequences)\n",
    "        x = tf.keras.layers.Conv1D(filters, kernel_size, padding='valid', activation='relu', strides=1)(x)\n",
    "        x = tf.keras.layers.MaxPooling1D()(x)\n",
    "        x = tf.keras.layers.GlobalMaxPooling1D()(x)\n",
    "        x = tf.keras.layers.Dense(hidden_dims, activation='relu')(x)\n",
    "        x = tf.keras.layers.Dropout(0.2)(x)\n",
    "        preds = tf.keras.layers.Dense(1, activation='sigmoid')(x)\n",
    "        \n",
    "        model = tf.keras.Model(sequence_input, preds)\n",
    "        optimizer = tf.keras.optimizers.Adam(learning_rate)\n",
    "        model.compile(loss='binary_crossentropy',\n",
    "                     optimizer = optimizer,\n",
    "                     metrics = ['accuracy'])\n",
    "        \n",
    "        return model\n",
    "    \n",
    "    \n",
    "if __name__ == \"__main__\":\n",
    "    args, _ = parse_args()\n",
    "    print(\"argument by gsmoon: \")\n",
    "    print(args)\n",
    "    \n",
    "    x_train, y_train = get_train_data(args.train)\n",
    "    x_test, y_test = get_test_data(args.test)\n",
    "    \n",
    "#     print(\"x_train: \\n\", x_train[0])\n",
    "#     print(\"x_test: \\n\", x_test[0])    \n",
    "    \n",
    "    \n",
    "    model = get_model(args.learning_rate)\n",
    "    \n",
    "    history = model.fit(x_train, y_train,\n",
    "                       batch_size = args.batch_size,\n",
    "                       epochs = args.epochs,\n",
    "                       validation_data = (x_test, y_test))\n",
    "    save_history(args.model_dir + \"/history.p\", history)    \n",
    "    \n",
    "    # create a tensorflow SavedModel for deployment to a SageMaker endpoint with Tensorflow Serving\n",
    "    model.save(args.model_dir + '/1')    \n"
   ]
  },
  {
   "cell_type": "markdown",
   "metadata": {},
   "source": [
    "### Run script"
   ]
  },
  {
   "cell_type": "code",
   "execution_count": 8,
   "metadata": {},
   "outputs": [
    {
     "name": "stdout",
     "output_type": "stream",
     "text": [
      "argument by gsmoon: \n",
      "Namespace(batch_size=100, epochs=10, learning_rate=0.01, model_dir='model', test='/root/tensorflow-sagemaker-examples/tf-sentiment-script-mode/data/test', train='/root/tensorflow-sagemaker-examples/tf-sentiment-script-mode/data/train')\n",
      "x train (25000, 400) y train (25000,)\n",
      "x test (25000, 400) y test (25000,)\n",
      "2020-05-30 14:37:16.310194: I tensorflow/stream_executor/platform/default/dso_loader.cc:44] Successfully opened dynamic library libcuda.so.1\n",
      "2020-05-30 14:37:16.849351: I tensorflow/stream_executor/cuda/cuda_gpu_executor.cc:981] successful NUMA node read from SysFS had negative value (-1), but there must be at least one NUMA node, so returning NUMA node zero\n",
      "2020-05-30 14:37:16.850144: I tensorflow/core/common_runtime/gpu/gpu_device.cc:1555] Found device 0 with properties: \n",
      "pciBusID: 0000:00:1e.0 name: Tesla T4 computeCapability: 7.5\n",
      "coreClock: 1.59GHz coreCount: 40 deviceMemorySize: 14.75GiB deviceMemoryBandwidth: 298.08GiB/s\n",
      "2020-05-30 14:37:16.850391: I tensorflow/stream_executor/platform/default/dso_loader.cc:44] Successfully opened dynamic library libcudart.so.10.1\n",
      "2020-05-30 14:37:16.851778: I tensorflow/stream_executor/platform/default/dso_loader.cc:44] Successfully opened dynamic library libcublas.so.10\n",
      "2020-05-30 14:37:16.853313: I tensorflow/stream_executor/platform/default/dso_loader.cc:44] Successfully opened dynamic library libcufft.so.10\n",
      "2020-05-30 14:37:16.853602: I tensorflow/stream_executor/platform/default/dso_loader.cc:44] Successfully opened dynamic library libcurand.so.10\n",
      "2020-05-30 14:37:16.855333: I tensorflow/stream_executor/platform/default/dso_loader.cc:44] Successfully opened dynamic library libcusolver.so.10\n",
      "2020-05-30 14:37:16.856348: I tensorflow/stream_executor/platform/default/dso_loader.cc:44] Successfully opened dynamic library libcusparse.so.10\n",
      "2020-05-30 14:37:16.860316: I tensorflow/stream_executor/platform/default/dso_loader.cc:44] Successfully opened dynamic library libcudnn.so.7\n",
      "2020-05-30 14:37:16.860439: I tensorflow/stream_executor/cuda/cuda_gpu_executor.cc:981] successful NUMA node read from SysFS had negative value (-1), but there must be at least one NUMA node, so returning NUMA node zero\n",
      "2020-05-30 14:37:16.861323: I tensorflow/stream_executor/cuda/cuda_gpu_executor.cc:981] successful NUMA node read from SysFS had negative value (-1), but there must be at least one NUMA node, so returning NUMA node zero\n",
      "2020-05-30 14:37:16.862105: I tensorflow/core/common_runtime/gpu/gpu_device.cc:1697] Adding visible gpu devices: 0\n",
      "2020-05-30 14:37:16.862406: I tensorflow/core/platform/cpu_feature_guard.cc:142] Your CPU supports instructions that this TensorFlow binary was not compiled to use: AVX512F\n",
      "2020-05-30 14:37:16.887009: I tensorflow/core/platform/profile_utils/cpu_utils.cc:94] CPU Frequency: 2499995000 Hz\n",
      "2020-05-30 14:37:16.887326: I tensorflow/compiler/xla/service/service.cc:168] XLA service 0x42d01d0 initialized for platform Host (this does not guarantee that XLA will be used). Devices:\n",
      "2020-05-30 14:37:16.887348: I tensorflow/compiler/xla/service/service.cc:176]   StreamExecutor device (0): Host, Default Version\n",
      "2020-05-30 14:37:16.973436: I tensorflow/stream_executor/cuda/cuda_gpu_executor.cc:981] successful NUMA node read from SysFS had negative value (-1), but there must be at least one NUMA node, so returning NUMA node zero\n",
      "2020-05-30 14:37:16.974324: I tensorflow/compiler/xla/service/service.cc:168] XLA service 0x4b7d660 initialized for platform CUDA (this does not guarantee that XLA will be used). Devices:\n",
      "2020-05-30 14:37:16.974345: I tensorflow/compiler/xla/service/service.cc:176]   StreamExecutor device (0): Tesla T4, Compute Capability 7.5\n",
      "2020-05-30 14:37:16.974500: I tensorflow/stream_executor/cuda/cuda_gpu_executor.cc:981] successful NUMA node read from SysFS had negative value (-1), but there must be at least one NUMA node, so returning NUMA node zero\n",
      "2020-05-30 14:37:16.975209: I tensorflow/core/common_runtime/gpu/gpu_device.cc:1555] Found device 0 with properties: \n",
      "pciBusID: 0000:00:1e.0 name: Tesla T4 computeCapability: 7.5\n",
      "coreClock: 1.59GHz coreCount: 40 deviceMemorySize: 14.75GiB deviceMemoryBandwidth: 298.08GiB/s\n",
      "2020-05-30 14:37:16.975256: I tensorflow/stream_executor/platform/default/dso_loader.cc:44] Successfully opened dynamic library libcudart.so.10.1\n",
      "2020-05-30 14:37:16.975271: I tensorflow/stream_executor/platform/default/dso_loader.cc:44] Successfully opened dynamic library libcublas.so.10\n",
      "2020-05-30 14:37:16.975284: I tensorflow/stream_executor/platform/default/dso_loader.cc:44] Successfully opened dynamic library libcufft.so.10\n",
      "2020-05-30 14:37:16.975296: I tensorflow/stream_executor/platform/default/dso_loader.cc:44] Successfully opened dynamic library libcurand.so.10\n",
      "2020-05-30 14:37:16.975307: I tensorflow/stream_executor/platform/default/dso_loader.cc:44] Successfully opened dynamic library libcusolver.so.10\n",
      "2020-05-30 14:37:16.975317: I tensorflow/stream_executor/platform/default/dso_loader.cc:44] Successfully opened dynamic library libcusparse.so.10\n",
      "2020-05-30 14:37:16.975328: I tensorflow/stream_executor/platform/default/dso_loader.cc:44] Successfully opened dynamic library libcudnn.so.7\n",
      "2020-05-30 14:37:16.975387: I tensorflow/stream_executor/cuda/cuda_gpu_executor.cc:981] successful NUMA node read from SysFS had negative value (-1), but there must be at least one NUMA node, so returning NUMA node zero\n",
      "2020-05-30 14:37:16.976163: I tensorflow/stream_executor/cuda/cuda_gpu_executor.cc:981] successful NUMA node read from SysFS had negative value (-1), but there must be at least one NUMA node, so returning NUMA node zero\n",
      "2020-05-30 14:37:16.976905: I tensorflow/core/common_runtime/gpu/gpu_device.cc:1697] Adding visible gpu devices: 0\n",
      "2020-05-30 14:37:16.976937: I tensorflow/stream_executor/platform/default/dso_loader.cc:44] Successfully opened dynamic library libcudart.so.10.1\n",
      "2020-05-30 14:37:16.978157: I tensorflow/core/common_runtime/gpu/gpu_device.cc:1096] Device interconnect StreamExecutor with strength 1 edge matrix:\n",
      "2020-05-30 14:37:16.978171: I tensorflow/core/common_runtime/gpu/gpu_device.cc:1102]      0 \n",
      "2020-05-30 14:37:16.978179: I tensorflow/core/common_runtime/gpu/gpu_device.cc:1115] 0:   N \n",
      "2020-05-30 14:37:16.978272: I tensorflow/stream_executor/cuda/cuda_gpu_executor.cc:981] successful NUMA node read from SysFS had negative value (-1), but there must be at least one NUMA node, so returning NUMA node zero\n",
      "2020-05-30 14:37:16.979091: I tensorflow/stream_executor/cuda/cuda_gpu_executor.cc:981] successful NUMA node read from SysFS had negative value (-1), but there must be at least one NUMA node, so returning NUMA node zero\n",
      "2020-05-30 14:37:16.979870: I tensorflow/core/common_runtime/gpu/gpu_device.cc:1241] Created TensorFlow device (/job:localhost/replica:0/task:0/device:GPU:0 with 14249 MB memory) -> physical GPU (device: 0, name: Tesla T4, pci bus id: 0000:00:1e.0, compute capability: 7.5)\n",
      "Train on 25000 samples, validate on 25000 samples\n",
      "Epoch 1/10\n",
      "2020-05-30 14:37:52.166598: I tensorflow/stream_executor/platform/default/dso_loader.cc:44] Successfully opened dynamic library libcublas.so.10\n",
      "2020-05-30 14:37:52.409268: I tensorflow/stream_executor/platform/default/dso_loader.cc:44] Successfully opened dynamic library libcudnn.so.7\n",
      "25000/25000 [==============================] - 9s 370us/sample - loss: 0.3842 - accuracy: 0.8255 - val_loss: 0.2945 - val_accuracy: 0.8769\n",
      "Epoch 2/10\n",
      "25000/25000 [==============================] - 4s 161us/sample - loss: 0.2211 - accuracy: 0.9140 - val_loss: 0.2874 - val_accuracy: 0.8785\n",
      "Epoch 3/10\n",
      "25000/25000 [==============================] - 4s 161us/sample - loss: 0.1125 - accuracy: 0.9600 - val_loss: 0.3869 - val_accuracy: 0.8736\n",
      "Epoch 4/10\n",
      "25000/25000 [==============================] - 4s 161us/sample - loss: 0.0661 - accuracy: 0.9774 - val_loss: 0.4558 - val_accuracy: 0.8765\n",
      "Epoch 5/10\n",
      "25000/25000 [==============================] - 4s 161us/sample - loss: 0.0596 - accuracy: 0.9797 - val_loss: 0.4468 - val_accuracy: 0.8768\n",
      "Epoch 6/10\n",
      "25000/25000 [==============================] - 4s 162us/sample - loss: 0.0396 - accuracy: 0.9884 - val_loss: 0.4857 - val_accuracy: 0.8673\n",
      "Epoch 7/10\n",
      "25000/25000 [==============================] - 4s 162us/sample - loss: 0.0483 - accuracy: 0.9820 - val_loss: 0.7204 - val_accuracy: 0.8744\n",
      "Epoch 8/10\n",
      "25000/25000 [==============================] - 4s 161us/sample - loss: 0.0306 - accuracy: 0.9902 - val_loss: 0.9605 - val_accuracy: 0.8770\n",
      "Epoch 9/10\n",
      "25000/25000 [==============================] - 4s 162us/sample - loss: 0.0326 - accuracy: 0.9893 - val_loss: 0.5542 - val_accuracy: 0.8740\n",
      "Epoch 10/10\n",
      "25000/25000 [==============================] - 4s 163us/sample - loss: 0.0308 - accuracy: 0.9903 - val_loss: 0.7474 - val_accuracy: 0.8718\n",
      "2020-05-30 14:38:35.660036: W tensorflow/python/util/util.cc:319] Sets are not currently considered sequences, but this may change in the future, so consider avoiding using them.\n"
     ]
    }
   ],
   "source": [
    "! python sentiment_gs.py --train {train_dir} --test {test_dir} --batch_size 100 --epochs 10 --model_dir \"model\""
   ]
  },
  {
   "cell_type": "code",
   "execution_count": 9,
   "metadata": {},
   "outputs": [],
   "source": [
    "import json\n",
    "\n",
    "with open('./model/history.p', \"r\") as f:\n",
    "    history = json.load(f)\n",
    "    \n"
   ]
  },
  {
   "cell_type": "code",
   "execution_count": 10,
   "metadata": {},
   "outputs": [
    {
     "data": {
      "image/png": "[encoded data removed]",
      "text/plain": [
       "<Figure size 864x288 with 2 Axes>"
      ]
     },
     "metadata": {
      "needs_background": "light"
     },
     "output_type": "display_data"
    }
   ],
   "source": [
    "import matplotlib.pyplot as plt\n",
    "\n",
    "\n",
    "def plot_training_curves(history): \n",
    "    fig, axes = plt.subplots(1, 2, figsize=(12, 4), sharex=True)\n",
    "    ax = axes[0]\n",
    "    ax.plot(history['accuracy'], label='train')\n",
    "    ax.set(title='model accuracy', ylabel='accuracy', xlabel='epoch')\n",
    "    ax.legend()\n",
    "    ax = axes[1]\n",
    "    ax.plot(history['loss'], label='train')\n",
    "    ax.set(title='model loss', ylabel='loss', xlabel='epoch')\n",
    "    ax.legend()\n",
    "    fig.tight_layout()\n",
    "    \n",
    "plot_training_curves(history)    "
   ]
  },
  {
   "cell_type": "code",
   "execution_count": null,
   "metadata": {},
   "outputs": [],
   "source": []
  }
 ],
 "metadata": {
  "instance_type": "ml.g4dn.xlarge",
  "kernelspec": {
   "display_name": "Python 3 (TensorFlow 2 GPU Optimized)",
   "language": "python",
   "name": "python3__SAGEMAKER_INTERNAL__arn:aws:sagemaker:us-east-1:081325390199:image/tensorflow-2.1-gpu-py36"
  },
  "language_info": {
   "codemirror_mode": {
    "name": "ipython",
    "version": 3
   },
   "file_extension": ".py",
   "mimetype": "text/x-python",
   "name": "python",
   "nbconvert_exporter": "python",
   "pygments_lexer": "ipython3",
   "version": "3.6.9"
  }
 },
 "nbformat": 4,
 "nbformat_minor": 4
}
