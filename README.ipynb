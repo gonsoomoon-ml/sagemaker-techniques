{
 "cells": [
  {
   "cell_type": "markdown",
   "metadata": {},
   "source": [
    "# The following notebooks are tested on SageMaker Studio with Python3 (Tensorflow2 GPU Optimized)\n",
    "\n",
    "### Folder : tf-sentiment-script-mode\n",
    "\n",
    "- 1.0.scratch_sentiment.ipynb\n",
    "    - Create a training script on local notebook\n",
    "    - __Technique inclduded__:\n",
    "        - Test a train scrpt in local notebook\n",
    "- 2.0.gs-sentiment-analysis-endpoint.ipynb\n",
    "    - Based on the training script, use the hosted training job using four GPUs on single instance\n",
    "    - __Technique inclduded__:\n",
    "        - Run a training job using 4 GPUs on a single instance with script mode\n",
    "    \n",
    "### Folder : tf-2-workflow\n",
    "\n",
    "- gs-tf-2-workflow.ipynb\n",
    "    - Add to create a preprocess script to be tested on local and rest of them are the same as original nversion\n",
    "    - __Technique inclduded__:\n",
    "        - Run a preprocessing job using 2 instances with script mode\n",
    "\n",
    "# The following subjects are contents on notebook instances\n",
    "\n",
    "### Folder : sagemaker-processing\n",
    "- 1.0.multiple_processing.ipynb\n",
    "    * __Techniques included:__\n",
    "        * Test a preprocessing script on notebook\n",
    "        * Prepreocess the preprocessing script on two instances\n",
    "- 2.0.gs-scikit_learn_data_processing_and_model_evaluation.ipynb     \n",
    "    - __Modified Points__:\n",
    "        - Make new preprocess script for a local test and use it on the following code: Processing, training, evaluation, processing on the custome container\n",
    "\n"
   ]
  },
  {
   "cell_type": "code",
   "execution_count": null,
   "metadata": {},
   "outputs": [],
   "source": []
  }
 ],
 "metadata": {
  "kernelspec": {
   "display_name": "conda_python3",
   "language": "python",
   "name": "conda_python3"
  },
  "language_info": {
   "codemirror_mode": {
    "name": "ipython",
    "version": 3
   },
   "file_extension": ".py",
   "mimetype": "text/x-python",
   "name": "python",
   "nbconvert_exporter": "python",
   "pygments_lexer": "ipython3",
   "version": "3.6.5"
  }
 },
 "nbformat": 4,
 "nbformat_minor": 4
}
